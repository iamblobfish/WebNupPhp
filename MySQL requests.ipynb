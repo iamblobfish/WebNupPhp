{
 "cells": [
  {
   "cell_type": "code",
   "execution_count": 26,
   "metadata": {
    "collapsed": true,
    "ExecuteTime": {
     "end_time": "2023-07-23T10:52:45.826255035Z",
     "start_time": "2023-07-23T10:52:45.812523532Z"
    }
   },
   "outputs": [],
   "source": [
    "import mysql.connector\n",
    "import hashlib\n",
    "\n",
    "db_config = {\n",
    "    'host': 'localhost',\n",
    "    'user': 'root',\n",
    "    'password': '1029384756',\n",
    "    'database': 'users',\n",
    "}\n",
    "\n"
   ]
  },
  {
   "cell_type": "code",
   "execution_count": 27,
   "outputs": [
    {
     "data": {
      "text/plain": "'5532120408754d5be111ccfbdc06311aec0b990b74e62ace884cfae42fabc1df559ad13679aa2e5af1e0d2a830bb77ebf684539d40c327ec511fc6a69f0de170'"
     },
     "execution_count": 27,
     "metadata": {},
     "output_type": "execute_result"
    }
   ],
   "source": [
    "connection = mysql.connector.connect(**db_config)\n",
    "\n",
    "cursor = connection.cursor()\n",
    "# cursor = db_config.cursor()\n",
    "hashlib.sha512('1029384756'.encode('utf-8')).hexdigest()"
   ],
   "metadata": {
    "collapsed": false,
    "ExecuteTime": {
     "end_time": "2023-07-23T10:52:45.873989570Z",
     "start_time": "2023-07-23T10:52:45.815184789Z"
    }
   }
  },
  {
   "cell_type": "markdown",
   "source": [
    "\n",
    "# Удаление Таблицы\n",
    "USE database_name;\n",
    "DROP TABLE table_name;\n"
   ],
   "metadata": {
    "collapsed": false
   }
  },
  {
   "cell_type": "code",
   "execution_count": 28,
   "outputs": [],
   "source": [
    "# Добавление таблицы с параметрами\n",
    "create_users_table_query = \"CREATE TABLE users_info (\\\n",
    "    id INT PRIMARY KEY AUTO_INCREMENT,\\\n",
    "    admin BOOL,\\\n",
    "    hashed_password VARCHAR(128),\\\n",
    "    email VARCHAR(100) UNIQUE,\\\n",
    "    username VARCHAR(50) NOT NULL,\\\n",
    "    phone_number VARCHAR(15) NOT NULL,\\\n",
    "    first_name VARCHAR(50) NOT NULL,\\\n",
    "    last_name VARCHAR(50) NOT NULL,\\\n",
    "    age INT,\\\n",
    "    sex VARCHAR(15),\\\n",
    "    created_at TIMESTAMP DEFAULT CURRENT_TIMESTAMP);\"\n",
    "\n",
    "create_orders_table_query = \"create table orders (\\\n",
    "    id_order int primary key auto_increment,\\\n",
    "    email VARCHAR(100),\\\n",
    "    information varchar(500),\\\n",
    "    created_at timestamp default current_timestamp,\\\n",
    "    FOREIGN KEY (email) REFERENCES users_info(email) ON DELETE CASCADE);\"\n",
    "\n",
    "create_dresses_table_query = \"create table dresses(\\\n",
    "    id_dress int primary key auto_increment,\\\n",
    "    title varchar(50),\\\n",
    "    collection varchar(50),\\\n",
    "    source longblob,\\\n",
    "    price float,\\\n",
    "    created_at timestamp default current_timestamp);\"\n",
    "\n",
    "image_path = \"static/images/autumn.jpg\"\n",
    "\n",
    "with open(image_path, \"rb\") as image_file:\n",
    "    image_data = image_file.read()\n",
    "\n",
    "# print(image_data)\n",
    "\n",
    "dress = {\n",
    "    'title': 'Autumn Fashion Dress',\n",
    "    'collection': 'autumn',\n",
    "    'source': image_data,\n",
    "    'price': 25.99\n",
    "}\n",
    "\n",
    "add_dress_to_dresses_query = \"\\\n",
    "    INSERT INTO dresses (title, collection, source, price)\\\n",
    "    VALUES (%(title)s, %(collection)s, %(source)s, %(price)s)\"\n",
    "\n",
    "order = {\n",
    "\n",
    "}\n",
    "\n",
    "user_data = {\n",
    "    'admin': True,\n",
    "    'hashed_password': hashlib.sha512('1029384756'.encode('utf-8')).hexdigest(),\n",
    "    'email': 'admin@admin.admin',\n",
    "    'username': 'admin',\n",
    "    'phone_number': '+35712345678',\n",
    "    'first_name': 'admin',\n",
    "    'last_name': 'admin',\n",
    "    'age': 100,\n",
    "    'sex': 'none'\n",
    "}\n",
    "\n",
    "user_data_a = {\n",
    "    'admin': True,\n",
    "    'hashed_password': hashlib.sha512('a'.encode('utf-8')).hexdigest(),\n",
    "    'email': 'a',\n",
    "    'username': 'a',\n",
    "    'phone_number': '+35712345678',\n",
    "    'first_name': 'admin',\n",
    "    'last_name': 'admin',\n",
    "    'age': 100,\n",
    "    'sex': 'none'\n",
    "}\n",
    "\n",
    "add_user_to_users_query = \"\\\n",
    "    INSERT INTO users_info (admin, hashed_password, email, username, phone_number, first_name, last_name, age, sex)\\\n",
    "    VALUES (%(admin)s, %(hashed_password)s, %(email)s, %(username)s, %(phone_number)s, %(first_name)s, %(last_name)s, %(age)s, %(sex)s);\"\n",
    "\n",
    "\n",
    "select_all_from_users_query = \"SELECT * FROM users_info;\"\n",
    "select_all_from_dresses_query = \"SELECT * FROM dresses;\""
   ],
   "metadata": {
    "collapsed": false,
    "ExecuteTime": {
     "end_time": "2023-07-23T10:35:59.287458394Z",
     "start_time": "2023-07-23T10:35:59.271338626Z"
    }
   }
  },
  {
   "cell_type": "code",
   "execution_count": 29,
   "outputs": [],
   "source": [
    "# cursor.execute(create_dresses_table_query)\n",
    "\n",
    "#Добавление данных в таблицу\n",
    "cursor.execute(add_user_to_users_query, user_data_a)\n",
    "\n",
    "# cursor.execute(add_dress_to_dresses_query, dress)\n",
    "\n",
    "\n",
    "\n",
    "# Применение изменений\n",
    "connection.commit()"
   ],
   "metadata": {
    "collapsed": false,
    "ExecuteTime": {
     "end_time": "2023-07-23T10:36:00.622616344Z",
     "start_time": "2023-07-23T10:36:00.535060201Z"
    }
   }
  },
  {
   "cell_type": "code",
   "execution_count": 30,
   "outputs": [
    {
     "name": "stdout",
     "output_type": "stream",
     "text": [
      "(1, 1, '5532120408754d5be111ccfbdc06311aec0b990b74e62ace884cfae42fabc1df559ad13679aa2e5af1e0d2a830bb77ebf684539d40c327ec511fc6a69f0de170', 'admin@admin.admin', 'admin', '+35712345678', 'admin', 'admin', 100, 'none', datetime.datetime(2023, 7, 24, 12, 49, 8))\n",
      "(2, 1, '1f40fc92da241694750979ee6cf582f2d5d7d28e18335de05abc54d0560e0f5302860c652bf08d560252aa5e74210546f369fbbbce8c12cfc7957b2652fe9a75', 'a', 'a', '+35712345678', 'admin', 'admin', 100, 'none', datetime.datetime(2023, 7, 25, 0, 22, 27))\n"
     ]
    }
   ],
   "source": [
    "cursor.execute(select_all_from_users_query)\n",
    "\n",
    "result = cursor.fetchall()\n",
    "\n",
    "# Вывод результатов\n",
    "for row in result:\n",
    "    print(row)"
   ],
   "metadata": {
    "collapsed": false,
    "ExecuteTime": {
     "end_time": "2023-07-23T10:36:04.797027151Z",
     "start_time": "2023-07-23T10:36:04.760537018Z"
    }
   }
  },
  {
   "cell_type": "code",
   "execution_count": 31,
   "outputs": [],
   "source": [
    "cursor.close()\n",
    "connection.close()"
   ],
   "metadata": {
    "collapsed": false,
    "ExecuteTime": {
     "end_time": "2023-07-23T10:45:51.260237101Z",
     "start_time": "2023-07-23T10:45:51.257030300Z"
    }
   }
  },
  {
   "cell_type": "code",
   "execution_count": null,
   "outputs": [],
   "source": [],
   "metadata": {
    "collapsed": false
   }
  }
 ],
 "metadata": {
  "kernelspec": {
   "display_name": "Python 3",
   "language": "python",
   "name": "python3"
  },
  "language_info": {
   "codemirror_mode": {
    "name": "ipython",
    "version": 2
   },
   "file_extension": ".py",
   "mimetype": "text/x-python",
   "name": "python",
   "nbconvert_exporter": "python",
   "pygments_lexer": "ipython2",
   "version": "2.7.6"
  }
 },
 "nbformat": 4,
 "nbformat_minor": 0
}
